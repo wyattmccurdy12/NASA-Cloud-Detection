{
 "cells": [
  {
   "cell_type": "markdown",
   "metadata": {},
   "source": [
    "Open Whus2 zip files and put in an opened folder\n"
   ]
  },
  {
   "cell_type": "code",
   "execution_count": 4,
   "metadata": {},
   "outputs": [],
   "source": [
    "import shutil\n",
    "import os"
   ]
  },
  {
   "cell_type": "code",
   "execution_count": 8,
   "metadata": {},
   "outputs": [],
   "source": [
    "whus2_data_directory_path = '/home/wyatt.mccurdy/netstore1/NASA-Cloud-Detection-Data/WHUS2/'\n",
    "\n",
    "os.chdir(whus2_data_directory_path)\n",
    "\n",
    "compressed_directory = 'compressed'\n",
    "extracted_directory = 'extracted'\n",
    "\n",
    "# Get the list of files in the compressed directory\n",
    "files = os.listdir(compressed_directory)\n",
    "\n",
    "# Iterate over each file and extract it to a folder in the extracted directory\n",
    "for file in files:\n",
    "    file_path = os.path.join(compressed_directory, file)\n",
    "    folder_name = os.path.splitext(file)[0]\n",
    "    folder_path = os.path.join(extracted_directory, folder_name)\n",
    "    shutil.unpack_archive(file_path, folder_path)\n"
   ]
  },
  {
   "cell_type": "code",
   "execution_count": null,
   "metadata": {},
   "outputs": [],
   "source": []
  }
 ],
 "metadata": {
  "kernelspec": {
   "display_name": "pytorch",
   "language": "python",
   "name": "python3"
  },
  "language_info": {
   "codemirror_mode": {
    "name": "ipython",
    "version": 3
   },
   "file_extension": ".py",
   "mimetype": "text/x-python",
   "name": "python",
   "nbconvert_exporter": "python",
   "pygments_lexer": "ipython3",
   "version": "3.8.0"
  }
 },
 "nbformat": 4,
 "nbformat_minor": 2
}
